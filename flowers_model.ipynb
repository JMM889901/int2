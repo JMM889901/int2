{
 "cells": [
  {
   "cell_type": "code",
   "execution_count": null,
   "metadata": {
    "collapsed": true
   },
   "outputs": [],
   "source": [
    "import torch\n",
    "import torchvision.utils\n",
    "from torch import nn\n",
    "from torch.utils.data import DataLoader\n",
    "from torchvision import datasets\n",
    "from torchvision import transforms\n",
    "import matplotlib.pyplot as plt\n",
    "import scipy\n",
    "import seaborn as sns"
   ]
  },
  {
   "cell_type": "code",
   "execution_count": null,
   "outputs": [],
   "source": [
    "input_transform = transforms.Compose([\n",
    "    transforms.RandomHorizontalFlip(),\n",
    "    transforms.AutoAugment(),\n",
    "    # transforms.ColorJitter(0.5, 0.5, 0.5),\n",
    "    transforms.RandomResizedCrop((400, 400)),\n",
    "    # transforms.RandomAdjustSharpness(0.3),\n",
    "    transforms.Resize((256, 256)),\n",
    "\n",
    "    transforms.ToTensor(),\n",
    "    # transforms.RandomErasing(0.2),\n",
    "    transforms.Normalize(0.5, 0.5)\n",
    "])\n",
    "\n",
    "output_transform = transforms.Compose([\n",
    "    transforms.Resize((256, 256)),\n",
    "    # transforms.CenterCrop((256, 256)),\n",
    "    transforms.ToTensor(),\n",
    "    transforms.Normalize(0.5, 0.5)\n",
    "])\n",
    "\n",
    "training_data = datasets.Flowers102(root=\"data\", split=\"train\", download=True, transform=input_transform)\n",
    "validation_data = datasets.Flowers102(root=\"data\", split=\"val\", download=True, transform=output_transform)\n",
    "test_data = datasets.Flowers102(root=\"data\", split=\"test\", download=True, transform=output_transform)"
   ],
   "metadata": {
    "collapsed": false
   }
  },
  {
   "cell_type": "code",
   "execution_count": null,
   "outputs": [],
   "source": [
    "len(training_data), len(validation_data), len(test_data)"
   ],
   "metadata": {
    "collapsed": false
   }
  },
  {
   "cell_type": "code",
   "execution_count": null,
   "outputs": [],
   "source": [
    "plt.imshow(training_data[1][0].permute(1, 2, 0))"
   ],
   "metadata": {
    "collapsed": false
   }
  },
  {
   "cell_type": "code",
   "execution_count": null,
   "outputs": [],
   "source": [
    "batch_size = 32\n",
    "train_dataloader = DataLoader(training_data, batch_size=batch_size, shuffle=True)\n",
    "val_dataloader = DataLoader(validation_data, batch_size=batch_size)\n",
    "test_dataloader = DataLoader(test_data, batch_size=batch_size)"
   ],
   "metadata": {
    "collapsed": false
   }
  },
  {
   "cell_type": "code",
   "execution_count": null,
   "outputs": [],
   "source": [
    "device = \"cuda\" if torch.cuda.is_available() else \"cpu\"\n",
    "torch.cuda.empty_cache()\n",
    "\n",
    "class FlowersModel(nn.Module):\n",
    "    def __init__(self):\n",
    "        super().__init__()\n",
    "        self.relu = nn.ReLU()\n",
    "        self.conv1 = nn.Conv2d(3, 16, 3, padding=1)\n",
    "        self.batch_norm1 = nn.BatchNorm2d(16)\n",
    "        self.conv2 = nn.Conv2d(16, 32, 3, padding=1)\n",
    "        self.batch_norm2 = nn.BatchNorm2d(32)\n",
    "        self.conv3 = nn.Conv2d(32, 32, 1, padding=0)\n",
    "        self.batch_norm3 = nn.BatchNorm2d(32)\n",
    "        self.pool2 = nn.MaxPool2d(2)\n",
    "        self.dropout = nn.Dropout(0.25)\n",
    "        self.flatten = nn.Flatten()\n",
    "        self.linear = nn.Linear(32 * 32 * 32, 256)\n",
    "        self.batch_norm4 = nn.BatchNorm1d(256)\n",
    "        self.final = nn.Linear(256, 102)\n",
    "        self.softmax = nn.LogSoftmax(dim=1)\n",
    "        self.output = nn.Sequential(\n",
    "            self.conv1,\n",
    "            self.relu,\n",
    "            self.batch_norm1,\n",
    "            self.pool2,\n",
    "            self.conv2,\n",
    "            self.relu,\n",
    "            self.batch_norm2,\n",
    "            self.pool2,\n",
    "            self.conv3,\n",
    "            self.relu,\n",
    "            self.batch_norm3,\n",
    "            self.pool2,\n",
    "            self.flatten,\n",
    "            self.dropout,\n",
    "            self.linear,\n",
    "            self.relu,\n",
    "            self.batch_norm4,\n",
    "            self.dropout,\n",
    "            self.final,\n",
    "            self.softmax\n",
    "        )\n",
    "\n",
    "    def forward(self, x):\n",
    "        return self.output(x)\n",
    "\n",
    "    def get_first_conv_output(self, x):\n",
    "        return self.relu(self.conv1(x))\n",
    "\n",
    "    def get_second_conv_output(self, x):\n",
    "        x = self.relu(self.conv1(x))\n",
    "        return self.relu(self.conv2(self.pool1(x)))\n",
    "\n",
    "    def get_third_conv_output(self, x):\n",
    "        x = self.relu(self.conv1(x))\n",
    "        x = self.relu(self.conv2(self.pool1(x)))\n",
    "        return self.relu(self.conv3(self.pool2(x)))\n",
    "\n",
    "model = FlowersModel().to(device)\n",
    "model"
   ],
   "metadata": {
    "collapsed": false
   }
  },
  {
   "cell_type": "code",
   "execution_count": null,
   "outputs": [],
   "source": [
    "learning_rate = 0.0005\n",
    "loss_fn = nn.NLLLoss()\n",
    "optimiser = torch.optim.AdamW(model.parameters(), learning_rate)"
   ],
   "metadata": {
    "collapsed": false
   }
  },
  {
   "cell_type": "code",
   "execution_count": null,
   "outputs": [],
   "source": [
    "def train(dataloader: DataLoader, training_model: nn.Module, optim: torch.optim.Optimizer):\n",
    "    size = len(dataloader.dataset)\n",
    "    training_model.train()\n",
    "    for batch_no, (X, y) in enumerate(dataloader):\n",
    "        X, y = X.to(device), y.to(device)\n",
    "        optim.zero_grad()\n",
    "        pred = training_model(X)\n",
    "        # actual = nn.functional.one_hot(y, 102)\n",
    "\n",
    "        loss = loss_fn(pred, y)\n",
    "        loss.backward()\n",
    "        optim.step()\n",
    "\n",
    "        if batch_no % 10 == 0:\n",
    "            loss, current = loss.item(), (batch_no + 1) * len(X)\n",
    "            print(f\"loss: {loss:>7f} [{current:>5d}/{size:>5d}]\")\n",
    "\n",
    "def test(dataloader:DataLoader, eval_model: nn.Module, losses: list, accuracy: list):\n",
    "    size = len(dataloader.dataset)\n",
    "    num_batches = len(dataloader)\n",
    "    model.eval()\n",
    "    total_loss, correct = 0, 0\n",
    "    with torch.no_grad():\n",
    "        for X, y in dataloader:\n",
    "            X, y = X.to(device), y.to(device)\n",
    "            pred = eval_model(X)\n",
    "            # actual = nn.functional.one_hot(y, 102)\n",
    "            total_loss += loss_fn(pred, y).item()\n",
    "            correct += (pred.argmax(1) == y).type(torch.float).sum().item()\n",
    "    total_loss /= num_batches\n",
    "    correct /= size\n",
    "\n",
    "    losses.append(total_loss)\n",
    "    accuracy.append(100 * correct)\n",
    "\n",
    "    print(f\"Accuracy: {(100 * correct):>0.1f}%, Avg loss: {total_loss:>8f} \\n\")\n"
   ],
   "metadata": {
    "collapsed": false
   }
  },
  {
   "cell_type": "code",
   "execution_count": null,
   "outputs": [],
   "source": [
    "epochs = 120\n",
    "val_losses = []\n",
    "val_accuracy = []\n",
    "train_losses = []\n",
    "train_accuracy = []\n",
    "epoch_list = []\n",
    "\n",
    "for t in range(epochs):\n",
    "    print(f\"Epoch {t + 1}\\n-------------------------------\")\n",
    "    train(train_dataloader, model, optimiser)\n",
    "    epoch_list.append(t+1)\n",
    "    print(\"Validation Error:\")\n",
    "    test(val_dataloader, model, val_losses, val_accuracy)\n",
    "    print(\"Training Error:\")\n",
    "    test(train_dataloader, model, train_losses, train_accuracy)\n",
    "\n",
    "    # epoch_list.append(t)\n",
    "\n",
    "print(\"Done!\")\n"
   ],
   "metadata": {
    "collapsed": false,
    "is_executing": true
   }
  },
  {
   "cell_type": "code",
   "execution_count": null,
   "outputs": [],
   "source": [
    "print(\"Testing error:\")\n",
    "test(test_dataloader, model, [], [])"
   ],
   "metadata": {
    "collapsed": false
   }
  },
  {
   "cell_type": "code",
   "execution_count": null,
   "outputs": [],
   "source": [
    "sns.set()\n",
    "# epoch_list.append(31)\n",
    "f, ax = plt.subplots(2, 1)\n",
    "# ax[0].plot(epoch_list, test_accuracy)\n",
    "ax[0].plot(val_accuracy)\n",
    "ax[0].plot(train_accuracy)\n",
    "ax[0].set_ylim(0, 100)\n",
    "# ax[1].plot(epoch_list, test_losses)\n",
    "ax[1].plot(val_losses)\n",
    "ax[1].plot(train_losses)\n",
    "ax[1].set_ylim(0, 5)\n",
    "# f.show()"
   ],
   "metadata": {
    "collapsed": false
   }
  },
  {
   "cell_type": "code",
   "execution_count": null,
   "outputs": [],
   "source": [
    "torch.save(model, \"model-inprogress.pth\")\n",
    "print(\"Saved PyTorch Model State to model.pth\")\n"
   ],
   "metadata": {
    "collapsed": false
   }
  },
  {
   "cell_type": "code",
   "execution_count": null,
   "outputs": [],
   "source": [
    "model_state_dict = torch.load(\"./model-inprogress.pth\")\n",
    "model_state_dict"
   ],
   "metadata": {
    "collapsed": false
   }
  },
  {
   "cell_type": "code",
   "execution_count": null,
   "outputs": [],
   "source": [],
   "metadata": {
    "collapsed": false
   }
  },
  {
   "cell_type": "code",
   "execution_count": null,
   "outputs": [],
   "source": [
    "single_dataloader = DataLoader(test_data, 1, shuffle=True)\n",
    "with torch.no_grad():\n",
    "    for x, y in single_dataloader:\n",
    "        x, y = x.to(device), y.to(device)\n",
    "        first_conv = model.get_first_conv_output(x)\n",
    "        second_conv = model.get_second_conv_output(x)\n",
    "        third_conv = model.get_third_conv_output(x)\n",
    "        pred = model(x)\n",
    "        break"
   ],
   "metadata": {
    "collapsed": false
   }
  },
  {
   "cell_type": "code",
   "execution_count": null,
   "outputs": [],
   "source": [
    "plt.imshow(x[0].to(\"cpu\").permute(1, 2, 0))"
   ],
   "metadata": {
    "collapsed": false
   }
  },
  {
   "cell_type": "code",
   "execution_count": null,
   "outputs": [],
   "source": [
    "# print(pred[0].argmax(), y[0])\n",
    "from torchvision.transforms.functional import to_pil_image\n",
    "plt.tight_layout()\n",
    "plt.rcParams[\"savefig.bbox\"] = 'tight'\n",
    "f, ax = plt.subplots(4, 4, squeeze=False)\n",
    "plt.subplots_adjust(wspace=0, hspace=0)\n",
    "for i in range(4):\n",
    "    for j in range(4):\n",
    "        img = to_pil_image(first_conv.to(\"cpu\")[0][i * 4 + j])\n",
    "        ax[i, j].imshow(img)\n",
    "        ax[i, j].set(xticklabels=[], yticklabels=[], xticks=[], yticks=[])\n"
   ],
   "metadata": {
    "collapsed": false
   }
  },
  {
   "cell_type": "code",
   "execution_count": null,
   "outputs": [],
   "source": [
    "from torchvision.transforms.functional import to_pil_image\n",
    "plt.tight_layout()\n",
    "f, ax = plt.subplots(4, 4, squeeze=False)\n",
    "plt.subplots_adjust(wspace=0, hspace=0)\n",
    "\n",
    "for i in range(4):\n",
    "    for j in range(4):\n",
    "        img = to_pil_image(second_conv.to(\"cpu\")[0][i * 4 + j])\n",
    "        ax[i, j].imshow(img)\n",
    "        ax[i, j].set(xticklabels=[], yticklabels=[], xticks=[], yticks=[])"
   ],
   "metadata": {
    "collapsed": false
   }
  },
  {
   "cell_type": "code",
   "execution_count": null,
   "outputs": [],
   "source": [
    "from torchvision.transforms.functional import to_pil_image\n",
    "plt.tight_layout()\n",
    "f, ax = plt.subplots(4, 4, squeeze=False)\n",
    "plt.subplots_adjust(wspace=0, hspace=0)\n",
    "\n",
    "for i in range(4):\n",
    "    for j in range(4):\n",
    "        img = to_pil_image(second_conv.to(\"cpu\")[0][16 + i * 4 + j])\n",
    "        ax[i, j].imshow(img)\n",
    "        ax[i, j].set(xticklabels=[], yticklabels=[], xticks=[], yticks=[])"
   ],
   "metadata": {
    "collapsed": false
   }
  }
 ],
 "metadata": {
  "kernelspec": {
   "display_name": "Python 3",
   "language": "python",
   "name": "python3"
  },
  "language_info": {
   "codemirror_mode": {
    "name": "ipython",
    "version": 2
   },
   "file_extension": ".py",
   "mimetype": "text/x-python",
   "name": "python",
   "nbconvert_exporter": "python",
   "pygments_lexer": "ipython2",
   "version": "2.7.6"
  }
 },
 "nbformat": 4,
 "nbformat_minor": 0
}
